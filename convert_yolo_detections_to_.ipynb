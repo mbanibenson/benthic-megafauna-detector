{
 "cells": [
  {
   "cell_type": "code",
   "execution_count": 4,
   "id": "95272933-e0a8-4ee1-8b66-421988151f81",
   "metadata": {},
   "outputs": [],
   "source": [
    "import pathlib\n",
    "import pandas as pd\n",
    "\n",
    "def yolo_to_csv(folder_path, output_csv):\n",
    "    # Create a Path object for the folder\n",
    "    folder = pathlib.Path(folder_path)\n",
    "\n",
    "    # List all text files in the folder\n",
    "    files = list(folder.glob('*.txt'))\n",
    "\n",
    "    # Initialize an empty list to store data frames\n",
    "    data_frames = []\n",
    "\n",
    "    # Iterate through each file and read its contents\n",
    "    for file in files:\n",
    "        with open(file, 'r') as f:\n",
    "            lines = f.readlines()\n",
    "            for line in lines:\n",
    "                parts = line.strip().split()\n",
    "                class_id = int(parts[0])\n",
    "                x_center = float(parts[1])\n",
    "                y_center = float(parts[2])\n",
    "                width = float(parts[3])\n",
    "                height = float(parts[4])\n",
    "                data_frames.append(pd.DataFrame({\n",
    "                    'filename': [file.name],\n",
    "                    'class': [class_id],\n",
    "                    'x_center': [x_center],\n",
    "                    'y_center': [y_center],\n",
    "                    'width': [width],\n",
    "                    'height': [height]\n",
    "                }))\n",
    "\n",
    "    # Concatenate all data frames\n",
    "    df = pd.concat(data_frames, ignore_index=True)\n",
    "\n",
    "    # Save the DataFrame to a CSV file\n",
    "    df.to_csv(output_csv, index=False)\n",
    "    print(f\"Combined CSV saved to {output_csv}\")"
   ]
  },
  {
   "cell_type": "code",
   "execution_count": 5,
   "id": "9743523b-16da-41c9-90c4-4be5b997fcff",
   "metadata": {},
   "outputs": [
    {
     "name": "stdout",
     "output_type": "stream",
     "text": [
      "Combined CSV saved to combined_results.csv\n"
     ]
    }
   ],
   "source": [
    "# Folder containing YOLO text files\n",
    "folder_path = 'runs/detect/predict10/labels'\n",
    "# Output CSV file\n",
    "output_csv = 'combined_results.csv'\n",
    "\n",
    "# Call the function to create the combined CSV\n",
    "yolo_to_csv(folder_path, output_csv)"
   ]
  },
  {
   "cell_type": "code",
   "execution_count": null,
   "id": "d4af6484-2dfd-4091-afca-409106946c3c",
   "metadata": {},
   "outputs": [],
   "source": []
  }
 ],
 "metadata": {
  "kernelspec": {
   "display_name": "Python 3 (ipykernel)",
   "language": "python",
   "name": "python3"
  },
  "language_info": {
   "codemirror_mode": {
    "name": "ipython",
    "version": 3
   },
   "file_extension": ".py",
   "mimetype": "text/x-python",
   "name": "python",
   "nbconvert_exporter": "python",
   "pygments_lexer": "ipython3",
   "version": "3.12.7"
  }
 },
 "nbformat": 4,
 "nbformat_minor": 5
}
